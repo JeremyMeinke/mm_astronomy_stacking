{
 "cells": [
  {
   "attachments": {},
   "cell_type": "markdown",
   "id": "df316ca7",
   "metadata": {},
   "source": [
    "# Stacking Example\n",
    "#### <font color=\"blue\"> by: Jeremy Meinke\n",
    "\n",
    "This notebook will outline the various maps and stacking code that I've built\n",
    "(and now cleaned up for you).  \n",
    "\n",
    "The goal of everything here is to:\n",
    "1.  Show a good summary of my work conducted.\n",
    "2.  Provide others (future grad students or general astrophysics audience) with code that can be the foundation for even cooler analysis!\n",
    "\n",
    "---\n"
   ]
  },
  {
   "cell_type": "markdown",
   "id": "c1674632",
   "metadata": {},
   "source": [
    "To start with, we'll load up the SPT-SZ Cluster Catalog.  For convenience, you can use the shell scripts in ./data/ to download any files I'll show here.  \n",
    "\n",
    "In ./data/ terminal, run \"bash pull_spt_cluster_catalog_2019_wget.sh\"\n",
    "\n",
    "Done? Okay:"
   ]
  },
  {
   "cell_type": "code",
   "execution_count": 1,
   "id": "261af803",
   "metadata": {},
   "outputs": [
    {
     "name": "stdout",
     "output_type": "stream",
     "text": [
      "Last time run: Thu Jan 26 19:34:27 2023\n"
     ]
    }
   ],
   "source": [
    "from __future__ import division\n",
    "import numpy as np\n",
    "import pandas as pd\n",
    "from astropy.table import Table\n",
    "import healpy as hp\n",
    "import matplotlib.pyplot as plt\n",
    "import time\n",
    "import gc  \n",
    "###SPT maps are big... gc.collect() is a safety way to try to keep the notebook from using too much memory\n",
    "\n",
    "from stacking_code import stacking    ###My stacking code\n",
    "\n",
    "print(\"Last time run: %s\"%time.asctime())\n"
   ]
  },
  {
   "cell_type": "markdown",
   "id": "0ef5a27b",
   "metadata": {},
   "source": [
    "Now reading the cluster catalog and into a pandas table:"
   ]
  },
  {
   "cell_type": "code",
   "execution_count": 2,
   "id": "d426fde9",
   "metadata": {},
   "outputs": [
    {
     "name": "stdout",
     "output_type": "stream",
     "text": [
      "Table Columns: \n",
      " ['SPT_ID', 'RA', 'DEC', 'FIELD', 'XI', 'THETA_CORE', 'YSZ', 'DYSZ', 'REDSHIFT', 'REDSHIFT_UNC', 'REDSHIFT_LIMIT', 'XRAY', 'SPECZ', 'WEAK_LENSING', 'M500', 'M500_uerr', 'M500_lerr', 'M200', 'M200_uerr', 'M200_lerr', 'M500_marge', 'M500_marge_uerr', 'M500_marge_lerr', 'M200_marge', 'M200_marge_uerr', 'M200_marge_lerr']\n",
      "\n",
      "Catalog size:  677\n"
     ]
    }
   ],
   "source": [
    "catalog = Table.read(\"./data/2500d_cluster_sample_Bocquet19.fits\", format=\"fits\").to_pandas()\n",
    "print(\"Table Columns: \\n\", list(catalog.columns))\n",
    "print(\"\\nCatalog size: \", len(catalog))\n",
    "# print(catalog)    ###To view what each column looks like"
   ]
  },
  {
   "cell_type": "markdown",
   "id": "586d979c",
   "metadata": {},
   "source": [
    "Now selecting the RAs and DECs of our catalog"
   ]
  },
  {
   "cell_type": "code",
   "execution_count": 3,
   "id": "c9a6b1dc",
   "metadata": {},
   "outputs": [],
   "source": [
    "catalog_ra = catalog[\"RA\"]\n",
    "catalog_dec = catalog[\"DEC\"]"
   ]
  },
  {
   "cell_type": "markdown",
   "id": "8ed35608",
   "metadata": {},
   "source": [
    "### Next Step: Load Map (SPT 95 GHz)\n",
    "***"
   ]
  },
  {
   "cell_type": "code",
   "execution_count": null,
   "id": "945eb776",
   "metadata": {},
   "outputs": [],
   "source": []
  }
 ],
 "metadata": {
  "kernelspec": {
   "display_name": "Python 3",
   "language": "python",
   "name": "python3"
  },
  "language_info": {
   "codemirror_mode": {
    "name": "ipython",
    "version": 3
   },
   "file_extension": ".py",
   "mimetype": "text/x-python",
   "name": "python",
   "nbconvert_exporter": "python",
   "pygments_lexer": "ipython3",
   "version": "3.8.10 (default, Nov 14 2022, 12:59:47) \n[GCC 9.4.0]"
  },
  "vscode": {
   "interpreter": {
    "hash": "916dbcbb3f70747c44a77c7bcd40155683ae19c65e1c03b4aa3499c5328201f1"
   }
  }
 },
 "nbformat": 4,
 "nbformat_minor": 5
}
