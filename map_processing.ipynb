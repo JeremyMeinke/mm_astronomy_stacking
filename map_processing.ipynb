{
 "cells": [
  {
   "cell_type": "markdown",
   "id": "8f9a27bb",
   "metadata": {},
   "source": [
    "# Map Processing Example\n",
    "------------------\n",
    "\n",
    "#### <font color=\"blue\"> by: Jeremy Meinke (feel free to contact me here on GitHub, LinkedIn, or email)\n",
    "------------------------------------------\n",
    "\n",
    "This notebook will dive a bit more into how to process differently formatted maps, such as SPT and ACT.\n",
    "It is a slight simplification of what has been conducted in our recent paper (ref to add).\n",
    "\n",
    "The notebook is divided into two parts:\n",
    "1.  Creating an SPT mask distance map - conveying distances (per pixel) to the nearest SPT mask pixel as used by Chown 2018.\n",
    "2.  Steps to convert ACT maps into healpix format, with the option of subtracting a large-scale CMB Planck map (as done by our recent paper above).\n",
    "\n",
    "---"
   ]
  },
  {
   "cell_type": "code",
   "execution_count": 1,
   "id": "8f983f7f",
   "metadata": {},
   "outputs": [
    {
     "name": "stdout",
     "output_type": "stream",
     "text": [
      "Last time run: Thu May 25 14:06:55 2023\n"
     ]
    }
   ],
   "source": [
    "from __future__ import division\n",
    "import numpy as np\n",
    "import pandas as pd\n",
    "from astropy.table import Table\n",
    "import healpy as hp\n",
    "import matplotlib as mpl\n",
    "import matplotlib.pyplot as plt\n",
    "from pixell import enmap\n",
    "from cycler import cycler\n",
    "import time\n",
    "import gc\n",
    "###SPT maps are big... gc.collect() is a safety way to try to keep the notebook from using too much memory\n",
    "import h5py\n",
    "\n",
    "from stacking_code import stacking    ###My stacking code\n",
    "from analysis_code import general     ###My general analysis code\n",
    "\n",
    "###My personal matplotlib preferences\n",
    "marker_cycle=[\"o\",\"^\",\"s\",\"d\",\"X\",\"2\",\"h\",\"v\",\">\"]\n",
    "color_cycle=[\"k\",\"b\",\"r\",\"c\",\"orange\",\"m\",\"lime\",\"grey\",\"lavender\"]\n",
    "mpl.rcParams[\"axes.prop_cycle\"] = cycler(color=color_cycle + color_cycle[::-1], marker=marker_cycle*2)\n",
    "\n",
    "print(\"Last time run: %s\"%time.asctime())"
   ]
  },
  {
   "cell_type": "markdown",
   "id": "6b7caadc",
   "metadata": {},
   "source": [
    "**This next block will compile a set of .npy data files into a 3.2GB SPT Mask Distance healpix map for easy calling if you ever need to remove locations within a catalog if they are near one of these \"holes\" in the SPT-SZ map (see Chown et al. 2018 for details, they essentially cut a 5 arcmin hole around bright 150GHz pt sources and apodized the edges by a further 5 arcmin FWHM beam).**\n",
    "\n",
    "*So this next block only needs to be run once, then you can just load the resultant healpix map whenever needed*"
   ]
  },
  {
   "cell_type": "code",
   "execution_count": null,
   "id": "4c0a0489",
   "metadata": {},
   "outputs": [],
   "source": [
    "## Comment this block out after first run through\n",
    "## First time setup to generate the SPT-SZ mask distance map from smaller saved .npy files\n",
    "divs = 20\n",
    "spt_mask_distances = np.zeros(12*8192**2)  ## As the SPT HEALPix nside=8192\n",
    "for d in range(divs):\n",
    "    temp = np.load(\"./data/spt_mask_distances_map_subset%iof%i.npy\"%(d+1, divs))\n",
    "    ## Now assigning the distances in degrees (row 1) to their respective pixel index (row 0)\n",
    "    spt_mask_distances[np.array(temp[0], dtype=\"int\")] = temp[1]\n",
    "\n",
    "## Now saving the map into healpix format:\n",
    "hp.write_map(\"./data/spt_mask_distances_chown2018.fits\", spt_mask_distances, nest=False, partial=True, dtype=np.float64, fits_IDL=False, coord=\"C\", column_units=\"DEG\")"
   ]
  },
  {
   "cell_type": "code",
   "execution_count": null,
   "id": "41346bef",
   "metadata": {},
   "outputs": [],
   "source": [
    "## Test load and plot of the result\n",
    "hp.mollview(spt_mask_distances, coord=\"C\", unit=\"Distance to SPT Mask [Deg]\")\n",
    "hp.graticule()\n",
    "plt.show()"
   ]
  },
  {
   "cell_type": "code",
   "execution_count": null,
   "id": "26eb0f83",
   "metadata": {},
   "outputs": [],
   "source": []
  }
 ],
 "metadata": {
  "kernelspec": {
   "display_name": "Python 3 (ipykernel)",
   "language": "python",
   "name": "python3"
  },
  "language_info": {
   "codemirror_mode": {
    "name": "ipython",
    "version": 3
   },
   "file_extension": ".py",
   "mimetype": "text/x-python",
   "name": "python",
   "nbconvert_exporter": "python",
   "pygments_lexer": "ipython3",
   "version": "3.8.10"
  }
 },
 "nbformat": 4,
 "nbformat_minor": 5
}
